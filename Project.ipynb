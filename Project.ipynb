{
 "cells": [
  {
   "cell_type": "code",
   "execution_count": 3,
   "metadata": {},
   "outputs": [
    {
     "name": "stdout",
     "output_type": "stream",
     "text": [
      "Enter symptoms....(-1 to finish)\n",
      "shivering\n",
      "fever\n",
      "chill\n",
      "cough\n",
      "-1\n",
      "\n",
      "\n",
      "Please select symptoms from following....(enter the index of symptoms....-1 to finish)\n",
      "\n",
      "1. shivering\n",
      "2. chills\n",
      "3. mild_fever\n",
      "4. cough\n",
      "5. high_fever\n",
      "1\n",
      "2\n",
      "3\n",
      "4\n",
      "-1\n",
      "\n",
      "\n",
      "Result:\n",
      "\n",
      "You might be suffering from  hepatitis A\n"
     ]
    }
   ],
   "source": [
    "import pandas as pd\n",
    "from sklearn.tree import DecisionTreeClassifier\n",
    "from sklearn.preprocessing import LabelEncoder\n",
    "from spellchecker import SpellChecker\n",
    "from nltk.tokenize import word_tokenize\n",
    "from nltk.corpus import stopwords\n",
    "df = pd.read_csv(\"./Dataset/Dataset.csv\")\n",
    "le = LabelEncoder()\n",
    "df['prognosis'] = le.fit_transform(df.prognosis.values)\n",
    "features = df.columns.tolist()\n",
    "features = features[:-2]\n",
    "x = df.iloc[1:,:-2]\n",
    "y = df.iloc[1:,-2]\n",
    "features = df.columns.tolist()\n",
    "features = features[:-2]\n",
    "x = df.iloc[1:,:-2]\n",
    "y = df.iloc[1:,-2]\n",
    "classifier= DecisionTreeClassifier()  \n",
    "classifier.fit(x,y)\n",
    "symptom_list = []\n",
    "symptom = input(\"Enter symptoms....(-1 to finish)\\n\")\n",
    "while symptom != \"-1\":\n",
    "    symptom_list.append(symptom)\n",
    "    symptom = input()\n",
    "symptom_list_corrected = set()\n",
    "for words in symptom_list:\n",
    "    spell = SpellChecker()\n",
    "    text_tokens = word_tokenize(words)\n",
    "    word_split = [word for word in text_tokens if not word in stopwords.words()]\n",
    "    for word in word_split:\n",
    "        possible_symptoms = spell.candidates(word)\n",
    "        for i in possible_symptoms:\n",
    "            for feature in features:\n",
    "                if i in feature:\n",
    "                    symptom_list_corrected.add(feature)\n",
    "symptom_list_corrected = list(symptom_list_corrected)\n",
    "print(\"\\n\\nPlease select symptoms from following....(enter the index of symptoms....-1 to finish)\\n\")\n",
    "for i in range(len(symptom_list_corrected)):\n",
    "    print(str(i+1)+\". \"+symptom_list_corrected[i])\n",
    "symptom_list = []\n",
    "symptom = input()\n",
    "while symptom != \"-1\":\n",
    "    symptom_list.append(symptom_list_corrected[int(symptom)-1])\n",
    "    symptom = input()\n",
    "symptom_map = [0]*132\n",
    "for sym in symptom_list:\n",
    "    index = features.index(sym)\n",
    "    symptom_map[index] = 1\n",
    "symptom_series = pd.Series(symptom_map)\n",
    "y_pred= classifier.predict([symptom_series])\n",
    "output = le.inverse_transform(y_pred)\n",
    "print(\"\\n\\nResult:\\n\")\n",
    "print(\"You might be suffering from \",output[0])"
   ]
  },
  {
   "cell_type": "code",
   "execution_count": null,
   "metadata": {},
   "outputs": [],
   "source": []
  },
  {
   "cell_type": "code",
   "execution_count": null,
   "metadata": {},
   "outputs": [],
   "source": []
  }
 ],
 "metadata": {
  "kernelspec": {
   "display_name": "Python 3",
   "language": "python",
   "name": "python3"
  },
  "language_info": {
   "codemirror_mode": {
    "name": "ipython",
    "version": 3
   },
   "file_extension": ".py",
   "mimetype": "text/x-python",
   "name": "python",
   "nbconvert_exporter": "python",
   "pygments_lexer": "ipython3",
   "version": "3.8.3"
  }
 },
 "nbformat": 4,
 "nbformat_minor": 4
}
